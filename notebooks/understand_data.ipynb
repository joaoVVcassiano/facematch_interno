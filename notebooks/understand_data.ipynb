{
 "cells": [
  {
   "cell_type": "markdown",
   "metadata": {},
   "source": [
    "## facematch\n",
    "\n",
    "Aqui, espero conseguir mesmo que de maneira rudimentar encontrar os vetores que represetam os dois rostos. Para isso, pretendo utilizar o 'pacote' https://github.com/DefTruth/torchlm."
   ]
  },
  {
   "cell_type": "code",
   "execution_count": 23,
   "metadata": {},
   "outputs": [
    {
     "name": "stdout",
     "output_type": "stream",
     "text": [
      "The autotime extension is already loaded. To reload it, use:\n",
      "  %reload_ext autotime\n",
      "time: 1.7 ms (started: 2024-01-03 15:56:02 -03:00)\n"
     ]
    }
   ],
   "source": [
    "import numpy as np\n",
    "import pandas as pd\n",
    "import matplotlib.pyplot as plt\n",
    "import tqdm\n",
    "\n",
    "%load_ext autotime"
   ]
  },
  {
   "cell_type": "code",
   "execution_count": 3,
   "metadata": {},
   "outputs": [
    {
     "name": "stdout",
     "output_type": "stream",
     "text": [
      "<class 'pandas.core.frame.DataFrame'>\n",
      "Index: 5173 entries, 0 to 23593\n",
      "Data columns (total 7 columns):\n",
      " #   Column              Non-Null Count  Dtype \n",
      "---  ------              --------------  ----- \n",
      " 0   id                  5173 non-null   object\n",
      " 1   approved            5173 non-null   bool  \n",
      " 2   analysis_status     5154 non-null   object\n",
      " 3   kind                5173 non-null   object\n",
      " 4   month               5173 non-null   int32 \n",
      " 5   registration_image  5173 non-null   object\n",
      " 6   comparision_image   5173 non-null   object\n",
      "dtypes: bool(1), int32(1), object(5)\n",
      "memory usage: 267.7+ KB\n",
      "time: 100 ms (started: 2024-01-03 15:29:46 -03:00)\n"
     ]
    }
   ],
   "source": [
    "#load parquet\n",
    "\n",
    "df = pd.read_parquet('../base/filtered_data.parquet')\n",
    "\n",
    "df.info()"
   ]
  },
  {
   "cell_type": "code",
   "execution_count": 20,
   "metadata": {},
   "outputs": [
    {
     "data": {
      "text/html": [
       "<div>\n",
       "<style scoped>\n",
       "    .dataframe tbody tr th:only-of-type {\n",
       "        vertical-align: middle;\n",
       "    }\n",
       "\n",
       "    .dataframe tbody tr th {\n",
       "        vertical-align: top;\n",
       "    }\n",
       "\n",
       "    .dataframe thead th {\n",
       "        text-align: right;\n",
       "    }\n",
       "</style>\n",
       "<table border=\"1\" class=\"dataframe\">\n",
       "  <thead>\n",
       "    <tr style=\"text-align: right;\">\n",
       "      <th></th>\n",
       "      <th>id</th>\n",
       "      <th>approved</th>\n",
       "      <th>analysis_status</th>\n",
       "      <th>kind</th>\n",
       "      <th>month</th>\n",
       "      <th>registration_image</th>\n",
       "      <th>comparision_image</th>\n",
       "    </tr>\n",
       "    <tr>\n",
       "      <th>index</th>\n",
       "      <th></th>\n",
       "      <th></th>\n",
       "      <th></th>\n",
       "      <th></th>\n",
       "      <th></th>\n",
       "      <th></th>\n",
       "      <th></th>\n",
       "    </tr>\n",
       "  </thead>\n",
       "  <tbody>\n",
       "    <tr>\n",
       "      <th>0</th>\n",
       "      <td>c1f483cd-0ead-4c83-bd7f-2434e89cd7ba</td>\n",
       "      <td>True</td>\n",
       "      <td>BIOMETRIC_AUTHENTICATED</td>\n",
       "      <td>MANUAL_BY_BIOMETRIC_FACE</td>\n",
       "      <td>10</td>\n",
       "      <td>c1f483cd-0ead-4c83-bd7f-2434e89cd7ba_selfie.jpeg</td>\n",
       "      <td>c1f483cd-0ead-4c83-bd7f-2434e89cd7ba_transacti...</td>\n",
       "    </tr>\n",
       "    <tr>\n",
       "      <th>1</th>\n",
       "      <td>81e61bb8-dcde-4334-a43c-a9d4d7b03a4b</td>\n",
       "      <td>True</td>\n",
       "      <td>BIOMETRIC_TRANSACTION_BAD_QUALITY</td>\n",
       "      <td>MANUAL_BY_BIOMETRIC_FACE</td>\n",
       "      <td>10</td>\n",
       "      <td>81e61bb8-dcde-4334-a43c-a9d4d7b03a4b_selfie.jpeg</td>\n",
       "      <td>81e61bb8-dcde-4334-a43c-a9d4d7b03a4b_transacti...</td>\n",
       "    </tr>\n",
       "    <tr>\n",
       "      <th>2</th>\n",
       "      <td>9be3c172-d260-4def-a941-eb0e2761becd</td>\n",
       "      <td>True</td>\n",
       "      <td>BIOMETRIC_AUTHENTICATED</td>\n",
       "      <td>MANUAL_BY_BIOMETRIC_FACE</td>\n",
       "      <td>9</td>\n",
       "      <td>9be3c172-d260-4def-a941-eb0e2761becd_selfie.jpeg</td>\n",
       "      <td>9be3c172-d260-4def-a941-eb0e2761becd_transacti...</td>\n",
       "    </tr>\n",
       "    <tr>\n",
       "      <th>3</th>\n",
       "      <td>83e57219-6fae-4bb7-8e67-2b0271fc1adb</td>\n",
       "      <td>True</td>\n",
       "      <td>BIOMETRIC_AUTHENTICATED</td>\n",
       "      <td>MANUAL_BY_BIOMETRIC_FACE</td>\n",
       "      <td>10</td>\n",
       "      <td>83e57219-6fae-4bb7-8e67-2b0271fc1adb_selfie.jpeg</td>\n",
       "      <td>83e57219-6fae-4bb7-8e67-2b0271fc1adb_transacti...</td>\n",
       "    </tr>\n",
       "    <tr>\n",
       "      <th>4</th>\n",
       "      <td>e23886d9-755f-4b1c-a523-50561f6493a7</td>\n",
       "      <td>True</td>\n",
       "      <td>BIOMETRIC_NEEDS_REVALIDATION</td>\n",
       "      <td>MANUAL_BY_BIOMETRIC_FACE</td>\n",
       "      <td>10</td>\n",
       "      <td>e23886d9-755f-4b1c-a523-50561f6493a7_selfie.jpeg</td>\n",
       "      <td>e23886d9-755f-4b1c-a523-50561f6493a7_transacti...</td>\n",
       "    </tr>\n",
       "  </tbody>\n",
       "</table>\n",
       "</div>"
      ],
      "text/plain": [
       "                                         id  approved  \\\n",
       "index                                                   \n",
       "0      c1f483cd-0ead-4c83-bd7f-2434e89cd7ba      True   \n",
       "1      81e61bb8-dcde-4334-a43c-a9d4d7b03a4b      True   \n",
       "2      9be3c172-d260-4def-a941-eb0e2761becd      True   \n",
       "3      83e57219-6fae-4bb7-8e67-2b0271fc1adb      True   \n",
       "4      e23886d9-755f-4b1c-a523-50561f6493a7      True   \n",
       "\n",
       "                         analysis_status                      kind  month  \\\n",
       "index                                                                       \n",
       "0                BIOMETRIC_AUTHENTICATED  MANUAL_BY_BIOMETRIC_FACE     10   \n",
       "1      BIOMETRIC_TRANSACTION_BAD_QUALITY  MANUAL_BY_BIOMETRIC_FACE     10   \n",
       "2                BIOMETRIC_AUTHENTICATED  MANUAL_BY_BIOMETRIC_FACE      9   \n",
       "3                BIOMETRIC_AUTHENTICATED  MANUAL_BY_BIOMETRIC_FACE     10   \n",
       "4           BIOMETRIC_NEEDS_REVALIDATION  MANUAL_BY_BIOMETRIC_FACE     10   \n",
       "\n",
       "                                     registration_image  \\\n",
       "index                                                     \n",
       "0      c1f483cd-0ead-4c83-bd7f-2434e89cd7ba_selfie.jpeg   \n",
       "1      81e61bb8-dcde-4334-a43c-a9d4d7b03a4b_selfie.jpeg   \n",
       "2      9be3c172-d260-4def-a941-eb0e2761becd_selfie.jpeg   \n",
       "3      83e57219-6fae-4bb7-8e67-2b0271fc1adb_selfie.jpeg   \n",
       "4      e23886d9-755f-4b1c-a523-50561f6493a7_selfie.jpeg   \n",
       "\n",
       "                                       comparision_image  \n",
       "index                                                     \n",
       "0      c1f483cd-0ead-4c83-bd7f-2434e89cd7ba_transacti...  \n",
       "1      81e61bb8-dcde-4334-a43c-a9d4d7b03a4b_transacti...  \n",
       "2      9be3c172-d260-4def-a941-eb0e2761becd_transacti...  \n",
       "3      83e57219-6fae-4bb7-8e67-2b0271fc1adb_transacti...  \n",
       "4      e23886d9-755f-4b1c-a523-50561f6493a7_transacti...  "
      ]
     },
     "execution_count": 20,
     "metadata": {},
     "output_type": "execute_result"
    },
    {
     "name": "stdout",
     "output_type": "stream",
     "text": [
      "time: 398 ms (started: 2024-01-03 15:47:59 -03:00)\n"
     ]
    }
   ],
   "source": [
    "import face_alignment\n",
    "from skimage import io\n",
    "\n",
    "fa = face_alignment.FaceAlignment(face_alignment.LandmarksType.TWO_D, flip_input=False, device = 'cpu', face_detector='blazeface')\n",
    "\n",
    "input = io.imread('imagens_test/biden.png')\n",
    "landmarks, landmarks_scores, detected_faces = fa.get_landmarks(input, return_landmark_score=True)\n"
   ]
  },
  {
   "cell_type": "code",
   "execution_count": 24,
   "metadata": {},
   "outputs": [
    {
     "name": "stderr",
     "output_type": "stream",
     "text": [
      "136it [08:10,  5.15s/it]"
     ]
    }
   ],
   "source": [
    "import face_alignment\n",
    "from skimage import io\n",
    "import pandas as pd\n",
    "import numpy as np\n",
    "\n",
    "# Initialize face_alignment\n",
    "fa = face_alignment.FaceAlignment(face_alignment.LandmarksType.TWO_D, flip_input=False, device='cpu', face_detector='blazeface')\n",
    "\n",
    "# Function to get landmarks and their scores\n",
    "def get_landmarks(image_path):\n",
    "    image = io.imread(image_path)\n",
    "    landmarks, scores, _ = fa.get_landmarks(image, return_landmark_score=True)\n",
    "    if landmarks is not None:\n",
    "        avg_score = np.mean(scores)\n",
    "        return landmarks[0], avg_score  # Assuming one face per image\n",
    "    else:\n",
    "        return None, None\n",
    "\n",
    "# Function to align images based on eye landmarks and compare\n",
    "def align_and_compare(landmarks1, landmarks2):\n",
    "    # Define alignment and comparison logic here\n",
    "    # For simplicity, this function will just calculate the Euclidean distance\n",
    "    # between corresponding landmarks as a basic comparison metric\n",
    "    if landmarks1 is not None and landmarks2 is not None:\n",
    "        distances = np.linalg.norm(landmarks1 - landmarks2, axis=1)\n",
    "        avg_distance = np.mean(distances)\n",
    "        return avg_distance\n",
    "    else:\n",
    "        return None\n",
    "\n",
    "\n",
    "# New columns for scores and comparison\n",
    "df['registration_avg_score'] = np.nan\n",
    "df['comparison_avg_score'] = np.nan\n",
    "df['facematch_score'] = np.nan\n",
    "\n",
    "# Iterate over DataFrame\n",
    "for index, row in tqdm.tqdm(df.iterrows()):\n",
    "    reg_landmarks, reg_score = get_landmarks('../base/imagens/'+row['registration_image'])\n",
    "    comp_landmarks, comp_score = get_landmarks('../base/imagens/'+row['comparision_image'])\n",
    "\n",
    "    df.at[index, 'registration_avg_score'] = reg_score\n",
    "    df.at[index, 'comparison_avg_score'] = comp_score\n",
    "\n",
    "    if reg_landmarks is not None and comp_landmarks is not None:\n",
    "        facematch_score = align_and_compare(reg_landmarks, comp_landmarks)\n",
    "        df.at[index, 'facematch_score'] = facematch_score\n",
    "\n",
    "# Display the updated DataFrame\n",
    "print(df)\n"
   ]
  },
  {
   "cell_type": "code",
   "execution_count": null,
   "metadata": {},
   "outputs": [],
   "source": [
    "df.to_parquet('../base/scored_base.parquet')\n"
   ]
  }
 ],
 "metadata": {
  "kernelspec": {
   "display_name": "facematch",
   "language": "python",
   "name": "python3"
  },
  "language_info": {
   "codemirror_mode": {
    "name": "ipython",
    "version": 3
   },
   "file_extension": ".py",
   "mimetype": "text/x-python",
   "name": "python",
   "nbconvert_exporter": "python",
   "pygments_lexer": "ipython3",
   "version": "3.10.13"
  }
 },
 "nbformat": 4,
 "nbformat_minor": 2
}
