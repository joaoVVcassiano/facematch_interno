{
 "cells": [
  {
   "cell_type": "markdown",
   "metadata": {},
   "source": [
    "## facematch\n",
    "\n",
    "Aqui, espero conseguir mesmo que de maneira rudimentar encontrar os vetores que represetam os dois rostos. Para isso, pretendo utilizar o 'pacote' https://github.com/DefTruth/torchlm."
   ]
  },
  {
   "cell_type": "code",
   "execution_count": 9,
   "metadata": {},
   "outputs": [],
   "source": [
    "import numpy as np\n",
    "import pandas as pd"
   ]
  },
  {
   "cell_type": "code",
   "execution_count": 8,
   "metadata": {},
   "outputs": [
    {
     "name": "stdout",
     "output_type": "stream",
     "text": [
      "<class 'pandas.core.frame.DataFrame'>\n",
      "Index: 5173 entries, 0 to 23593\n",
      "Data columns (total 7 columns):\n",
      " #   Column              Non-Null Count  Dtype \n",
      "---  ------              --------------  ----- \n",
      " 0   id                  5173 non-null   object\n",
      " 1   approved            5173 non-null   bool  \n",
      " 2   analysis_status     5154 non-null   object\n",
      " 3   kind                5173 non-null   object\n",
      " 4   month               5173 non-null   int32 \n",
      " 5   registration_image  5173 non-null   object\n",
      " 6   comparision_image   5173 non-null   object\n",
      "dtypes: bool(1), int32(1), object(5)\n",
      "memory usage: 267.7+ KB\n"
     ]
    }
   ],
   "source": [
    "#load parquet\n",
    "\n",
    "df = pd.read_parquet('../base/filtered_data.parquet')\n",
    "\n",
    "df.info()"
   ]
  },
  {
   "cell_type": "code",
   "execution_count": null,
   "metadata": {},
   "outputs": [],
   "source": []
  }
 ],
 "metadata": {
  "kernelspec": {
   "display_name": "facematch",
   "language": "python",
   "name": "python3"
  },
  "language_info": {
   "codemirror_mode": {
    "name": "ipython",
    "version": 3
   },
   "file_extension": ".py",
   "mimetype": "text/x-python",
   "name": "python",
   "nbconvert_exporter": "python",
   "pygments_lexer": "ipython3",
   "version": "3.10.13"
  }
 },
 "nbformat": 4,
 "nbformat_minor": 2
}
