{
 "cells": [
  {
   "cell_type": "markdown",
   "metadata": {},
   "source": [
    "## facematch\n",
    "\n",
    "Aqui, espero conseguir mesmo que de maneira rudimentar encontrar os vetores que represetam os dois rostos. Para isso, pretendo utilizar o 'pacote' https://github.com/DefTruth/torchlm.\n"
   ]
  },
  {
   "cell_type": "code",
   "execution_count": 1,
   "metadata": {},
   "outputs": [
    {
     "name": "stdout",
     "output_type": "stream",
     "text": [
      "time: 115 µs (started: 2024-02-29 12:53:17 -03:00)\n"
     ]
    }
   ],
   "source": [
    "import pandas as pd\n",
    "import matplotlib.pyplot as plt\n",
    "import cv2\n",
    "import seaborn as sns\n",
    "import deepface\n",
    "import sys\n",
    "sys.path.append('../')\n",
    "from facematch import Facematch\n",
    "%load_ext autotime"
   ]
  },
  {
   "cell_type": "code",
   "execution_count": 2,
   "metadata": {},
   "outputs": [
    {
     "name": "stdout",
     "output_type": "stream",
     "text": [
      "time: 47.9 ms (started: 2024-02-28 11:44:54 -03:00)\n"
     ]
    }
   ],
   "source": [
    "df = pd.read_parquet('../base/filtered_scored_data.parquet')\n"
   ]
  },
  {
   "cell_type": "code",
   "execution_count": 4,
   "metadata": {},
   "outputs": [
    {
     "data": {
      "text/plain": [
       "4533"
      ]
     },
     "execution_count": 4,
     "metadata": {},
     "output_type": "execute_result"
    },
    {
     "name": "stdout",
     "output_type": "stream",
     "text": [
      "time: 8.37 ms (started: 2024-02-28 11:45:10 -03:00)\n"
     ]
    }
   ],
   "source": [
    "len(df[df['approved'] == True])"
   ]
  },
  {
   "cell_type": "code",
   "execution_count": 20,
   "metadata": {},
   "outputs": [
    {
     "ename": "NameError",
     "evalue": "name 'df' is not defined",
     "output_type": "error",
     "traceback": [
      "\u001b[0;31m---------------------------------------------------------------------------\u001b[0m",
      "\u001b[0;31mNameError\u001b[0m                                 Traceback (most recent call last)",
      "Cell \u001b[0;32mIn[20], line 2\u001b[0m\n\u001b[1;32m      1\u001b[0m \u001b[38;5;66;03m#laod df with 50% of approved True and 50% of approved False\u001b[39;00m\n\u001b[0;32m----> 2\u001b[0m df2use \u001b[38;5;241m=\u001b[39m \u001b[43mdf\u001b[49m[df[\u001b[38;5;124m'\u001b[39m\u001b[38;5;124mapproved\u001b[39m\u001b[38;5;124m'\u001b[39m] \u001b[38;5;241m==\u001b[39m \u001b[38;5;28;01mFalse\u001b[39;00m]\u001b[38;5;241m.\u001b[39msample(\u001b[38;5;241m100\u001b[39m)\n\u001b[1;32m      3\u001b[0m df2use \u001b[38;5;241m=\u001b[39m pd\u001b[38;5;241m.\u001b[39mconcat((df2use,df[df[\u001b[38;5;124m'\u001b[39m\u001b[38;5;124mapproved\u001b[39m\u001b[38;5;124m'\u001b[39m] \u001b[38;5;241m==\u001b[39m \u001b[38;5;28;01mTrue\u001b[39;00m]\u001b[38;5;241m.\u001b[39msample(\u001b[38;5;241m100\u001b[39m)))\n\u001b[1;32m      5\u001b[0m \u001b[38;5;28mprint\u001b[39m(\u001b[38;5;28mlen\u001b[39m(df2use))\n",
      "\u001b[0;31mNameError\u001b[0m: name 'df' is not defined"
     ]
    },
    {
     "name": "stdout",
     "output_type": "stream",
     "text": [
      "time: 256 ms (started: 2024-02-29 13:05:21 -03:00)\n"
     ]
    }
   ],
   "source": [
    "#laod df with 50% of approved True and 50% of approved False\n",
    "df2use = df[df['approved'] == False].sample(100)\n",
    "df2use = pd.concat((df2use,df[df['approved'] == True].sample(100)))\n",
    "\n",
    "print(len(df2use))\n",
    "respostas_reais = []\n",
    "\n",
    "registration_images = df2use.registration_image.values\n",
    "comparision_image = df2use.comparision_image.values\n",
    "similarity = df2use.similarity.values\n",
    "unico_status = df2use.approved.values\n",
    "\n",
    "for i in range(len(respostas_reais), len(df2use)):\n",
    "    fig, ax = plt.subplots(1, 2, figsize=(10, 10))\n",
    "    ax[0].imshow(cv2.imread('../base/imagens/' + registration_images[i])[:,:,::-1])\n",
    "    ax[1].imshow(cv2.imread('../base/imagens/' + comparision_image[i])[:,:,::-1])\n",
    "    plt.savefig('images_2_check/imagem.png')\n",
    "    plt.close()\n",
    "    \n",
    "    resposta = 'XXX'\n",
    "        \n",
    "    while not(resposta.lower() in 'sn'):\n",
    "        resposta = input('Aprovado? (s/n)')\n",
    "\n",
    "    respostas_reais.append(resposta.lower() == 's')\n",
    "\n",
    "    #save respostas_reais as txt\n",
    "    with open('respostas_reais.txt', 'w') as f:\n",
    "        f.write(str(respostas_reais))\n",
    "\n",
    "    del fig, ax\n",
    "\n",
    "#plot confusion matrix\n",
    "df2use['respostas_reais'] = respostas_reais\n",
    "\n",
    "\n",
    "from sklearn.metrics import classification_report"
   ]
  },
  {
   "cell_type": "code",
   "execution_count": 22,
   "metadata": {},
   "outputs": [
    {
     "data": {
      "text/plain": [
       "index\n",
       "3876     False\n",
       "16580    False\n",
       "8976     False\n",
       "365      False\n",
       "19244    False\n",
       "         ...  \n",
       "18097     True\n",
       "17886     True\n",
       "6378      True\n",
       "14295     True\n",
       "13982     True\n",
       "Name: approved, Length: 200, dtype: bool"
      ]
     },
     "execution_count": 22,
     "metadata": {},
     "output_type": "execute_result"
    },
    {
     "name": "stdout",
     "output_type": "stream",
     "text": [
      "time: 4.02 ms (started: 2024-02-29 13:05:35 -03:00)\n"
     ]
    }
   ],
   "source": []
  },
  {
   "cell_type": "code",
   "execution_count": 38,
   "metadata": {},
   "outputs": [
    {
     "name": "stdout",
     "output_type": "stream",
     "text": [
      "[[90 10]\n",
      " [ 5 95]]\n",
      "[[ 89   4]\n",
      " [  6 101]]\n",
      "[[94 44]\n",
      " [ 1 61]]\n",
      "              precision    recall  f1-score   support\n",
      "\n",
      "       False       0.95      0.90      0.92       100\n",
      "        True       0.90      0.95      0.93       100\n",
      "\n",
      "    accuracy                           0.93       200\n",
      "   macro avg       0.93      0.93      0.92       200\n",
      "weighted avg       0.93      0.93      0.92       200\n",
      "\n",
      "              precision    recall  f1-score   support\n",
      "\n",
      "       False       0.94      0.96      0.95        93\n",
      "        True       0.96      0.94      0.95       107\n",
      "\n",
      "    accuracy                           0.95       200\n",
      "   macro avg       0.95      0.95      0.95       200\n",
      "weighted avg       0.95      0.95      0.95       200\n",
      "\n",
      "              precision    recall  f1-score   support\n",
      "\n",
      "       False       0.91      0.95      0.93        95\n",
      "        True       0.95      0.91      0.93       105\n",
      "\n",
      "    accuracy                           0.93       200\n",
      "   macro avg       0.93      0.93      0.93       200\n",
      "weighted avg       0.93      0.93      0.93       200\n",
      "\n",
      "time: 29 ms (started: 2024-02-29 15:55:22 -03:00)\n"
     ]
    }
   ],
   "source": [
    "from sklearn.metrics import classification_report\n",
    "from sklearn.metrics import confusion_matrix\n",
    "\n",
    "print(confusion_matrix((df2use['respostas_reais'].values,df2use['approved'].values)))\n",
    "print(confusion_matrix(df2use['respostas_reais'].values, (df2use['approved'].values) | (df2use['similarity'].values > 0.6)))\n",
    "print(confusion_matrix((df2use['similarity'].values > 0.7), df2use['respostas_reais'].values))\n",
    "\n",
    "#print classification report\n",
    "print(classification_report((df2use['respostas_reais'].values, df2use['approved'].values),))\n",
    "print(classification_report(df2use['respostas_reais'].values, (df2use['approved'].values) | (df2use['similarity'].values > 0.6)))\n",
    "print(classification_report(df2use['respostas_reais'].values,(df2use['approved'].values) | (df2use['similarity'].values > 0.8)))"
   ]
  },
  {
   "cell_type": "code",
   "execution_count": 8,
   "metadata": {},
   "outputs": [
    {
     "name": "stdout",
     "output_type": "stream",
     "text": [
      "time: 13.7 ms (started: 2024-02-29 12:55:33 -03:00)\n"
     ]
    }
   ],
   "source": [
    "#save as parquet\n",
    "df2use = pd.read_parquet('df2use_see_images.parquet')"
   ]
  },
  {
   "cell_type": "code",
   "execution_count": null,
   "metadata": {},
   "outputs": [],
   "source": []
  },
  {
   "cell_type": "code",
   "execution_count": 12,
   "metadata": {},
   "outputs": [
    {
     "data": {
      "text/plain": [
       "0.9374436090225566"
      ]
     },
     "execution_count": 12,
     "metadata": {},
     "output_type": "execute_result"
    },
    {
     "data": {
      "image/png": "[encoded data removed]",
      "text/plain": [
       "<Figure size 640x480 with 1 Axes>"
      ]
     },
     "metadata": {},
     "output_type": "display_data"
    },
    {
     "name": "stdout",
     "output_type": "stream",
     "text": [
      "time: 342 ms (started: 2024-02-28 12:02:44 -03:00)\n"
     ]
    }
   ],
   "source": [
    "#plot KS of similarity respostas_reais\n",
    "sns.kdeplot(df2use[df2use['respostas_reais'] == True].similarity, label='True')\n",
    "sns.kdeplot(df2use[df2use['respostas_reais'] == False].similarity, label='False')\n",
    "\n",
    "#plot AuC of similarity respostas_reais\n",
    "from sklearn.metrics import roc_auc_score\n",
    "roc_auc_score(df2use['respostas_reais'], df2use['similarity'])\n"
   ]
  },
  {
   "cell_type": "code",
   "execution_count": 15,
   "metadata": {},
   "outputs": [
    {
     "name": "stdout",
     "output_type": "stream",
     "text": [
      "time: 1.23 ms (started: 2024-02-20 13:54:47 -03:00)\n"
     ]
    }
   ],
   "source": []
  },
  {
   "cell_type": "code",
   "execution_count": 16,
   "metadata": {},
   "outputs": [
    {
     "name": "stdout",
     "output_type": "stream",
     "text": [
      "time: 41.7 ms (started: 2024-02-20 13:54:59 -03:00)\n"
     ]
    }
   ],
   "source": []
  },
  {
   "cell_type": "code",
   "execution_count": 3,
   "metadata": {},
   "outputs": [
    {
     "name": "stdout",
     "output_type": "stream",
     "text": [
      "time: 14.3 ms (started: 2024-02-29 12:53:18 -03:00)\n"
     ]
    }
   ],
   "source": []
  },
  {
   "cell_type": "code",
   "execution_count": 51,
   "metadata": {},
   "outputs": [
    {
     "name": "stdout",
     "output_type": "stream",
     "text": [
      "[[44  1]\n",
      " [15 40]]\n",
      "              precision    recall  f1-score   support\n",
      "\n",
      "       False       0.75      0.98      0.85        45\n",
      "        True       0.98      0.73      0.83        55\n",
      "\n",
      "    accuracy                           0.84       100\n",
      "   macro avg       0.86      0.85      0.84       100\n",
      "weighted avg       0.87      0.84      0.84       100\n",
      "\n",
      "[[39  6]\n",
      " [ 3 52]]\n",
      "              precision    recall  f1-score   support\n",
      "\n",
      "       False       0.93      0.87      0.90        45\n",
      "        True       0.90      0.95      0.92        55\n",
      "\n",
      "    accuracy                           0.91       100\n",
      "   macro avg       0.91      0.91      0.91       100\n",
      "weighted avg       0.91      0.91      0.91       100\n",
      "\n",
      "time: 16.4 ms (started: 2024-02-06 13:37:10 -03:00)\n"
     ]
    }
   ],
   "source": [
    "similarity_boolean = similarity > 0.6\n",
    "\n",
    "#print coffunsuion matrix\n",
    "from sklearn.metrics import confusion_matrix, classification_report\n",
    "\n",
    "print(confusion_matrix(real, similarity_boolean))\n",
    "print(classification_report(real, similarity_boolean))\n",
    "\n",
    "print(confusion_matrix(real, unico_status))\n",
    "print(classification_report(real, unico_status))"
   ]
  },
  {
   "cell_type": "code",
   "execution_count": null,
   "metadata": {},
   "outputs": [],
   "source": [
    "#print coffunsuion matrix\n"
   ]
  }
 ],
 "metadata": {
  "kernelspec": {
   "display_name": "facematch",
   "language": "python",
   "name": "python3"
  },
  "language_info": {
   "codemirror_mode": {
    "name": "ipython",
    "version": 3
   },
   "file_extension": ".py",
   "mimetype": "text/x-python",
   "name": "python",
   "nbconvert_exporter": "python",
   "pygments_lexer": "ipython3",
   "version": "3.10.13"
  }
 },
 "nbformat": 4,
 "nbformat_minor": 2
}
