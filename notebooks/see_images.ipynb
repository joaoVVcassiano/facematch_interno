{
 "cells": [
  {
   "cell_type": "markdown",
   "metadata": {},
   "source": [
    "## facematch\n",
    "\n",
    "Aqui, espero conseguir mesmo que de maneira rudimentar encontrar os vetores que represetam os dois rostos. Para isso, pretendo utilizar o 'pacote' https://github.com/DefTruth/torchlm.\n"
   ]
  },
  {
   "cell_type": "code",
   "execution_count": 1,
   "metadata": {},
   "outputs": [
    {
     "name": "stdout",
     "output_type": "stream",
     "text": [
      "time: 205 µs (started: 2024-02-06 11:18:28 -03:00)\n"
     ]
    }
   ],
   "source": [
    "import pandas as pd\n",
    "import matplotlib.pyplot as plt\n",
    "import cv2\n",
    "import seaborn as sns\n",
    "\n",
    "import sys\n",
    "sys.path.append('../')\n",
    "from facematch import Facematch\n",
    "%load_ext autotime"
   ]
  },
  {
   "cell_type": "code",
   "execution_count": 2,
   "metadata": {},
   "outputs": [
    {
     "name": "stdout",
     "output_type": "stream",
     "text": [
      "time: 105 ms (started: 2024-02-06 11:18:35 -03:00)\n"
     ]
    }
   ],
   "source": [
    "df = pd.read_parquet('../base/filtered_scored_data.parquet')"
   ]
  },
  {
   "cell_type": "code",
   "execution_count": 38,
   "metadata": {},
   "outputs": [
    {
     "name": "stdout",
     "output_type": "stream",
     "text": [
      "time: 406 µs (started: 2024-02-06 12:02:52 -03:00)\n"
     ]
    }
   ],
   "source": [
    "#laod df with 50% of approved True and 50% of approved False\n",
    "#df2use = df[df['approved'] == True].sample(100)\n",
    "#df2use = pd.concat([df2use, df[df['approved'] == False].sample(100)])\n",
    "#df2use = df2use.sample(100)"
   ]
  },
  {
   "cell_type": "code",
   "execution_count": 37,
   "metadata": {},
   "outputs": [
    {
     "name": "stdout",
     "output_type": "stream",
     "text": [
      "time: 1min 53s (started: 2024-02-06 12:00:58 -03:00)\n"
     ]
    }
   ],
   "source": [
    "registration_images = df2use.registration_image.values\n",
    "comparision_image = df2use.comparision_image.values\n",
    "similarity = df2use.similarity.values\n",
    "unico_status = df2use.approved.values\n",
    "\n",
    "for i in range(0, len(df2use)):\n",
    "    fig, ax = plt.subplots(1, 2, figsize=(10, 10))\n",
    "    ax[0].imshow(cv2.imread('../base/imagens/' + registration_images[i])[:,:,::-1])\n",
    "    ax[1].imshow(cv2.imread('../base/imagens/' + comparision_image[i])[:,:,::-1])\n",
    "    ax[0].set_title(str(i)+ '   '+ str(unico_status[i]) + '   ' + str(similarity[i]))\n",
    "    plt.savefig('images_2_check/' + str(i) + '.png')\n",
    "    plt.close()"
   ]
  },
  {
   "cell_type": "code",
   "execution_count": 45,
   "metadata": {},
   "outputs": [
    {
     "name": "stdout",
     "output_type": "stream",
     "text": [
      "time: 1.12 ms (started: 2024-02-06 13:31:52 -03:00)\n"
     ]
    }
   ],
   "source": [
    "real = unico_status[:].copy()\n",
    "real[17] = not(real[17])\n",
    "real[18] = not(real[18])\n",
    "real[26] = not(real[26])\n",
    "real[31] = not(real[31])\n",
    "real[49] = not(real[49])\n",
    "real[66] = not(real[66])\n",
    "real[91] = not(real[91])\n",
    "real[93] = not(real[93])\n",
    "real[99] = not(real[99])"
   ]
  },
  {
   "cell_type": "code",
   "execution_count": 50,
   "metadata": {},
   "outputs": [
    {
     "name": "stdout",
     "output_type": "stream",
     "text": [
      "[[44  1]\n",
      " [15 40]]\n",
      "              precision    recall  f1-score   support\n",
      "\n",
      "       False       0.75      0.98      0.85        45\n",
      "        True       0.98      0.73      0.83        55\n",
      "\n",
      "    accuracy                           0.84       100\n",
      "   macro avg       0.86      0.85      0.84       100\n",
      "weighted avg       0.87      0.84      0.84       100\n",
      "\n",
      "[[39  6]\n",
      " [ 3 52]]\n",
      "              precision    recall  f1-score   support\n",
      "\n",
      "       False       0.75      0.98      0.85        45\n",
      "        True       0.98      0.73      0.83        55\n",
      "\n",
      "    accuracy                           0.84       100\n",
      "   macro avg       0.86      0.85      0.84       100\n",
      "weighted avg       0.87      0.84      0.84       100\n",
      "\n",
      "time: 65.8 ms (started: 2024-02-06 13:35:53 -03:00)\n"
     ]
    }
   ],
   "source": [
    "similarity_boolean = similarity > 0.6\n",
    "\n",
    "#print coffunsuion matrix\n",
    "from sklearn.metrics import confusion_matrix, classification_report\n",
    "\n",
    "print(confusion_matrix(real, similarity_boolean))\n",
    "print(classification_report(real, similarity_boolean))\n",
    "\n",
    "print(confusion_matrix(real, unico_status))\n",
    "print(classification_report(real, similarity_boolean))"
   ]
  },
  {
   "cell_type": "code",
   "execution_count": null,
   "metadata": {},
   "outputs": [],
   "source": [
    "#print coffunsuion matrix\n"
   ]
  }
 ],
 "metadata": {
  "kernelspec": {
   "display_name": "facematch",
   "language": "python",
   "name": "python3"
  },
  "language_info": {
   "codemirror_mode": {
    "name": "ipython",
    "version": 3
   },
   "file_extension": ".py",
   "mimetype": "text/x-python",
   "name": "python",
   "nbconvert_exporter": "python",
   "pygments_lexer": "ipython3",
   "version": "3.10.13"
  }
 },
 "nbformat": 4,
 "nbformat_minor": 2
}
