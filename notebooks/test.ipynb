{
 "cells": [
  {
   "cell_type": "code",
   "execution_count": 1,
   "metadata": {},
   "outputs": [
    {
     "name": "stdout",
     "output_type": "stream",
     "text": [
      "time: 401 µs (started: 2024-02-07 15:58:50 -03:00)\n"
     ]
    }
   ],
   "source": [
    "import pandas as pd\n",
    "import matplotlib.pyplot as plt\n",
    "import cv2\n",
    "import seaborn as sns\n",
    "\n",
    "import sys\n",
    "sys.path.append('../')\n",
    "from facematch import Facematch\n",
    "import tqdm\n",
    "from deepface import DeepFace\n",
    "%load_ext autotime\n"
   ]
  },
  {
   "cell_type": "code",
   "execution_count": 2,
   "metadata": {},
   "outputs": [
    {
     "name": "stdout",
     "output_type": "stream",
     "text": [
      "time: 20.8 ms (started: 2024-02-07 15:58:50 -03:00)\n"
     ]
    }
   ],
   "source": [
    "df = pd.read_parquet('../base/filtered_scored_data.parquet')"
   ]
  },
  {
   "cell_type": "code",
   "execution_count": 11,
   "metadata": {},
   "outputs": [
    {
     "name": "stdout",
     "output_type": "stream",
     "text": [
      "time: 4.16 ms (started: 2024-02-07 16:10:04 -03:00)\n"
     ]
    }
   ],
   "source": [
    "samples_size = 10\n",
    "\n",
    "df2use = df[df['approved'] == True].sample(samples_size, random_state=42)\n",
    "df2use = pd.concat([df2use, df[df['approved'] == False].sample(samples_size, random_state=42)])\n",
    "#df2use = df2use.sample(samples_size, random_state=42)"
   ]
  },
  {
   "cell_type": "code",
   "execution_count": 12,
   "metadata": {},
   "outputs": [
    {
     "name": "stderr",
     "output_type": "stream",
     "text": [
      "100%|██████████| 20/20 [00:46<00:00,  2.33s/it]"
     ]
    },
    {
     "name": "stdout",
     "output_type": "stream",
     "text": [
      "time: 46.7 s (started: 2024-02-07 16:10:04 -03:00)\n"
     ]
    },
    {
     "name": "stderr",
     "output_type": "stream",
     "text": [
      "\n"
     ]
    }
   ],
   "source": [
    "registration_images = df2use.registration_image.values\n",
    "comparision_image = df2use.comparision_image.values\n",
    "unico_status = df2use.approved.values\n",
    "\n",
    "for i in tqdm.tqdm(range(0, len(df2use))):\n",
    "    fig, ax = plt.subplots(1, 2, figsize=(10, 10))\n",
    "\n",
    "    img_0 = cv2.imread('../base/imagens/' + registration_images[i])\n",
    "    img_1 = cv2.imread('../base/imagens/' + comparision_image[i])\n",
    "\n",
    "    ax[0].imshow(img_0[:,:,::-1])\n",
    "    ax[1].imshow(img_1[:,:,::-1])\n",
    "\n",
    "    similarity = Facematch.verify(img_0, img_1).get('similarity')\n",
    "    deepface_val = 1 - DeepFace.verify(img_0, img_1, model_name='Facenet512', enforce_detection=False, detector_backend='mediapipe')['distance']\n",
    "\n",
    "    string = f\"Image {i}, unico : {unico_status[i]}, similarity: {similarity}, deepface: {round(deepface_val,2)}\"\n",
    "\n",
    "    ax[0].set_title(string)\n",
    "    plt.savefig('images_2_check/' + str(i) + '.png')\n",
    "    plt.close()"
   ]
  },
  {
   "cell_type": "code",
   "execution_count": 10,
   "metadata": {},
   "outputs": [
    {
     "data": {
      "text/plain": [
       "20"
      ]
     },
     "execution_count": 10,
     "metadata": {},
     "output_type": "execute_result"
    },
    {
     "name": "stdout",
     "output_type": "stream",
     "text": [
      "time: 2.05 ms (started: 2024-02-07 16:10:02 -03:00)\n"
     ]
    }
   ],
   "source": [
    "len(df2use)"
   ]
  },
  {
   "cell_type": "code",
   "execution_count": null,
   "metadata": {},
   "outputs": [],
   "source": []
  }
 ],
 "metadata": {
  "kernelspec": {
   "display_name": "facematch",
   "language": "python",
   "name": "python3"
  },
  "language_info": {
   "codemirror_mode": {
    "name": "ipython",
    "version": 3
   },
   "file_extension": ".py",
   "mimetype": "text/x-python",
   "name": "python",
   "nbconvert_exporter": "python",
   "pygments_lexer": "ipython3",
   "version": "3.10.13"
  }
 },
 "nbformat": 4,
 "nbformat_minor": 2
}
